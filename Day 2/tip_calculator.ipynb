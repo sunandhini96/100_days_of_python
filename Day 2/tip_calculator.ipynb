{
  "nbformat": 4,
  "nbformat_minor": 0,
  "metadata": {
    "colab": {
      "provenance": [],
      "authorship_tag": "ABX9TyNIPygcG17dpoPov/A9BC1C",
      "include_colab_link": true
    },
    "kernelspec": {
      "name": "python3",
      "display_name": "Python 3"
    },
    "language_info": {
      "name": "python"
    }
  },
  "cells": [
    {
      "cell_type": "markdown",
      "metadata": {
        "id": "view-in-github",
        "colab_type": "text"
      },
      "source": [
        "<a href=\"https://colab.research.google.com/github/sunandhini96/100_days_of_python/blob/main/Day%202/tip_calculator.ipynb\" target=\"_parent\"><img src=\"https://colab.research.google.com/assets/colab-badge.svg\" alt=\"Open In Colab\"/></a>"
      ]
    },
    {
      "cell_type": "markdown",
      "source": [
        "# Tip calculator"
      ],
      "metadata": {
        "id": "7Cv_OKIOblAN"
      }
    },
    {
      "cell_type": "markdown",
      "source": [
        "#If the bill was $150.00, split between 5 people, with 12% tip.\n",
        "\n",
        "#Each person should pay (150.00 / 5) * 1.12 = 33.6\n",
        "\n",
        "#Round the result to 2 decimal places."
      ],
      "metadata": {
        "id": "9f2EWeWtfynb"
      }
    },
    {
      "cell_type": "code",
      "execution_count": 2,
      "metadata": {
        "colab": {
          "base_uri": "https://localhost:8080/"
        },
        "id": "eDZouBqbbjPC",
        "outputId": "910996ba-6055-422d-a1da-cfc85fdcbb33"
      },
      "outputs": [
        {
          "output_type": "stream",
          "name": "stdout",
          "text": [
            "Welcome to the tip calculator\n",
            "What was the total bill? $150\n",
            "What percentage tip would you like to give? 10, 12, or 15? 15\n",
            "How many people to split the bill? 5\n",
            "Each person should pay: $34.5\n"
          ]
        }
      ],
      "source": [
        "#If the bill was $150.00, split between 5 people, with 12% tip.\n",
        "print(\"Welcome to the tip calculator\")\n",
        "bill = float(input(\"What was the total bill? $\"))\n",
        "tip = int(input(\"What percentage tip would you like to give? 10, 12, or 15? \"))\n",
        "#Each person should pay (150.00 / 5) * 1.12 = 33.6\n",
        "people = int(input(\"How many people to split the bill? \"))\n",
        "print(f\"Each person should pay: ${round(bill / people * ((tip / 100) + 1),2)}\")\n",
        "#Format the result to 2 decimal places = 33.60\n",
        "\n",
        "#Tip: There are 2 ways to round a number. You might have to do some Googling to solve this.💪\n",
        "\n",
        "#Write your code below this line 👇"
      ]
    },
    {
      "cell_type": "code",
      "source": [],
      "metadata": {
        "id": "0PV2nTLNefPq"
      },
      "execution_count": null,
      "outputs": []
    }
  ]
}